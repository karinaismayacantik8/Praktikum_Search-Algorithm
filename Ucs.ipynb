{
  "nbformat": 4,
  "nbformat_minor": 0,
  "metadata": {
    "colab": {
      "provenance": [],
      "authorship_tag": "ABX9TyMyKaTA8F6jk5m1RMyTu407",
      "include_colab_link": true
    },
    "kernelspec": {
      "name": "python3",
      "display_name": "Python 3"
    },
    "language_info": {
      "name": "python"
    }
  },
  "cells": [
    {
      "cell_type": "markdown",
      "metadata": {
        "id": "view-in-github",
        "colab_type": "text"
      },
      "source": [
        "<a href=\"https://colab.research.google.com/github/karinaismayacantik8/Praktikum_Search-Algorithm/blob/main/Ucs.ipynb\" target=\"_parent\"><img src=\"https://colab.research.google.com/assets/colab-badge.svg\" alt=\"Open In Colab\"/></a>"
      ]
    },
    {
      "cell_type": "code",
      "execution_count": 1,
      "metadata": {
        "colab": {
          "base_uri": "https://localhost:8080/"
        },
        "id": "qDsdtBGJyrHX",
        "outputId": "bfc8d2a6-b812-4c22-dbb3-7ece3545dc63"
      },
      "outputs": [
        {
          "output_type": "stream",
          "name": "stdout",
          "text": [
            "Minimum cost from 0 to 6 is =  3\n"
          ]
        }
      ],
      "source": [
        "# Python3 implementation of above approach\n",
        "\n",
        "# returns the minimum cost in a vector (if\n",
        "# there are multiple goal states)\n",
        "def uniform_cost_search(goal, start):\n",
        "    global graph, cost\n",
        "    answer = []\n",
        "\n",
        "    # create a priority queue\n",
        "    queue = []\n",
        "\n",
        "    # set the answer vector to max value\n",
        "    for i in range(len(goal)):\n",
        "        answer.append(10**8)\n",
        "\n",
        "    # insert the starting index\n",
        "    queue.append([0, start])\n",
        "\n",
        "    # map to store visited node\n",
        "    visited = {}\n",
        "\n",
        "    # while the queue is not empty\n",
        "    while (len(queue) > 0):\n",
        "\n",
        "        # get the top element of the queue\n",
        "        queue = sorted(queue)\n",
        "        p = queue[-1]\n",
        "\n",
        "        # pop the element\n",
        "        del queue[-1]\n",
        "\n",
        "        # get the original value\n",
        "        p[0] *= -1\n",
        "\n",
        "        # check if the element is part of the goal list\n",
        "        if (p[1] in goal):\n",
        "\n",
        "            # get the position\n",
        "            index = goal.index(p[1])\n",
        "\n",
        "            # if the cost is less\n",
        "            if (answer[index] > p[0]):\n",
        "                answer[index] = p[0]\n",
        "\n",
        "            # check if all goals are reached\n",
        "            if (all(answer[i] != 10**8 for i in range(len(goal)))):\n",
        "                return answer\n",
        "\n",
        "        # check for the non-visited nodes\n",
        "        # which are adjacent to present node\n",
        "        if (p[1] not in visited):\n",
        "            for i in range(len(graph[p[1]])):\n",
        "\n",
        "                # value is multiplied by -1 so that\n",
        "                # least priority is at the top\n",
        "                queue.append([(p[0] + cost[(p[1], graph[p[1]][i])]) * -1, graph[p[1]][i]])\n",
        "\n",
        "        # mark as visited\n",
        "        visited[p[1]] = 1\n",
        "\n",
        "    return answer\n",
        "\n",
        "\n",
        "# main function\n",
        "if __name__ == \"__main__\":\n",
        "\n",
        "    # create the graph\n",
        "    graph, cost = [[] for i in range(8)], {}\n",
        "\n",
        "    # add edge\n",
        "    graph[0].append(1)\n",
        "    graph[0].append(3)\n",
        "    graph[1].append(6)\n",
        "    graph[3].append(1)\n",
        "    graph[3].append(6)\n",
        "    graph[3].append(4)\n",
        "    graph[4].append(2)\n",
        "    graph[4].append(5)\n",
        "    graph[5].append(2)\n",
        "    graph[6].append(4)\n",
        "\n",
        "    # add the cost\n",
        "    cost[(0, 1)] = 2\n",
        "    cost[(0, 3)] = 5\n",
        "    cost[(1, 6)] = 1\n",
        "    cost[(3, 1)] = 5\n",
        "    cost[(3, 6)] = 6\n",
        "    cost[(3, 4)] = 2\n",
        "    cost[(4, 2)] = 4\n",
        "    cost[(4, 5)] = 3\n",
        "    cost[(5, 2)] = 6\n",
        "    cost[(6, 4)] = 7\n",
        "\n",
        "    # goal state\n",
        "    goal = []\n",
        "\n",
        "    # set the goal\n",
        "    # there can be multiple goal states\n",
        "    goal.append(6)\n",
        "\n",
        "    # get the answer\n",
        "    answer = uniform_cost_search(goal, 0)\n",
        "\n",
        "    # print the answer\n",
        "    print(\"Minimum cost from 0 to 6 is = \", answer[0])"
      ]
    }
  ]
}