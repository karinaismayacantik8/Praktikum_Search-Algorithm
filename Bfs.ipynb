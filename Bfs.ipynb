{
  "nbformat": 4,
  "nbformat_minor": 0,
  "metadata": {
    "colab": {
      "provenance": [],
      "authorship_tag": "ABX9TyMnFrPpaxNDYdt6FCu0wHU/",
      "include_colab_link": true
    },
    "kernelspec": {
      "name": "python3",
      "display_name": "Python 3"
    },
    "language_info": {
      "name": "python"
    }
  },
  "cells": [
    {
      "cell_type": "markdown",
      "metadata": {
        "id": "view-in-github",
        "colab_type": "text"
      },
      "source": [
        "<a href=\"https://colab.research.google.com/github/karinaismayacantik8/Praktikum_Search-Algorithm/blob/main/Bfs.ipynb\" target=\"_parent\"><img src=\"https://colab.research.google.com/assets/colab-badge.svg\" alt=\"Open In Colab\"/></a>"
      ]
    },
    {
      "cell_type": "code",
      "execution_count": 1,
      "metadata": {
        "colab": {
          "base_uri": "https://localhost:8080/"
        },
        "id": "9WszeywXx0VF",
        "outputId": "667a987f-14ef-4343-beac-0745c0edc261"
      },
      "outputs": [
        {
          "output_type": "stream",
          "name": "stdout",
          "text": [
            "Following is Breadth First Traversal: \n",
            "0 1 2 3 "
          ]
        }
      ],
      "source": [
        "# BFS algorithm in python\n",
        "\n",
        "import collections\n",
        "\n",
        "# BFS algoritmh\n",
        "def bfs(graph, root):\n",
        "\n",
        "    visited, queue = set (), collections.deque([root])\n",
        "    visited.add(root)\n",
        "\n",
        "    while queue:\n",
        "\n",
        "      # Dequeue a vertex from queue\n",
        "      vertex = queue.popleft()\n",
        "      print(str(vertex) + \" \", end=\"\")\n",
        "\n",
        "       # if not visited, mark it as visited, and\n",
        "       # enqueue it\n",
        "      for neighbour in graph[vertex]:\n",
        "        if neighbour not in visited:\n",
        "          visited.add(neighbour)\n",
        "          queue.append(neighbour)\n",
        "\n",
        "\n",
        "if __name__ == '__main__':\n",
        "  graph = {0: [1, 2], 1: [2], 2: [3], 3: [1, 2]}\n",
        "  print(\"Following is Breadth First Traversal: \")\n",
        "  bfs(graph, 0)"
      ]
    }
  ]
}